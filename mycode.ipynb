{
 "cells": [
  {
   "cell_type": "code",
   "execution_count": 85,
   "metadata": {},
   "outputs": [],
   "source": [
    "import pandas as pd\n",
    "import numpy as np"
   ]
  },
  {
   "attachments": {},
   "cell_type": "markdown",
   "metadata": {},
   "source": [
    "# 1. to define the datasets\n",
    "to divide it into train and test sets."
   ]
  },
  {
   "cell_type": "code",
   "execution_count": 86,
   "metadata": {},
   "outputs": [
    {
     "name": "stdout",
     "output_type": "stream",
     "text": [
      "[[0.697 0.774 0.634 0.608 0.556 0.403 0.481 0.437 0.666 0.243 0.245 0.343\n",
      "  0.639 0.657 0.36 0.593 0.719]\n",
      " [0.46 0.376 0.264 0.318 0.215 0.237 0.149 0.211 0.091 0.267 0.057 0.099\n",
      "  0.161 0.198 0.37 0.042 0.103]\n",
      " [1 1 1 1 1 1 1 1 0 0 0 0 0 0 0 0 0]]\n",
      "(3, 17)\n",
      "(2, 11) (1, 11) (2, 6) (1, 6)\n",
      "train_plus shape (1, 11)\n",
      "train_x is  [[0.697 0.774 0.634 0.608 0.556 0.403 0.481 0.437 0.666 0.243 0.245]\n",
      " [0.46 0.376 0.264 0.318 0.215 0.237 0.149 0.211 0.091 0.267 0.057]\n",
      " [1.0 1.0 1.0 1.0 1.0 1.0 1.0 1.0 1.0 1.0 1.0]]\n",
      "train_x shape is (3, 11)\n",
      "(3, 11) (1, 11) (3, 6) (1, 6)\n"
     ]
    }
   ],
   "source": [
    "# to define the datasets\n",
    "\n",
    "dataset = pd.read_csv('watermelon3.0a.csv', sep=',')\n",
    "\n",
    "dataset = np.array(dataset)\n",
    "\n",
    "# print('before')\n",
    "# print(dataset)\n",
    "\n",
    "# translate '是' and '否' into 1 and 0\n",
    "for i in range(len(dataset)):\n",
    "    dataset[i][3] = 1 if dataset[i][3] == '是' else 0\n",
    "\n",
    "\n",
    "dataset = dataset.T\n",
    "dataset = dataset[1:4]\n",
    "# print('after altering')\n",
    "print(dataset)\n",
    "\n",
    "print(dataset.shape)\n",
    "\n",
    "d = int(17 * 0.7)\n",
    "\n",
    "# [0:2, 0:d] [2:3, 0:d] [0:2, d:] [2:3, d:]\n",
    "train_x = dataset[0:2, 0:d]\n",
    "train_y = dataset[2:3, 0:d]\n",
    "test_x = dataset[0:2, d:]\n",
    "test_y = dataset[2:3, d:]\n",
    "\n",
    "print(train_x.shape, train_y.shape, test_x.shape, test_y.shape)\n",
    "\n",
    "train_plus = np.ones(d).reshape(1, -1)\n",
    "test_plus = np.ones(17 - d).reshape(1, -1)\n",
    "\n",
    "print('train_plus shape', train_plus.shape)\n",
    "\n",
    "train_x = np.append(train_x, train_plus, axis=0)\n",
    "test_x = np.append(test_x, test_plus, axis=0)\n",
    "\n",
    "print('train_x is ', train_x)\n",
    "print('train_x shape is', train_x.shape)\n",
    "\n",
    "print(train_x.shape, train_y.shape, test_x.shape, test_y.shape)"
   ]
  },
  {
   "attachments": {},
   "cell_type": "markdown",
   "metadata": {},
   "source": [
    "# 2. initialize the parameters"
   ]
  },
  {
   "cell_type": "code",
   "execution_count": 96,
   "metadata": {},
   "outputs": [
    {
     "data": {
      "text/plain": [
       "numpy.ndarray"
      ]
     },
     "execution_count": 96,
     "metadata": {},
     "output_type": "execute_result"
    }
   ],
   "source": [
    "# initialize the parameters\n",
    "\n",
    "def initialize_with_zeros(dim : int):\n",
    "    return np.random.randn(dim, 1)\n",
    "\n",
    "initialize_with_zeros(3)"
   ]
  },
  {
   "attachments": {},
   "cell_type": "markdown",
   "metadata": {},
   "source": [
    "# 3. propagate"
   ]
  },
  {
   "cell_type": "code",
   "execution_count": 88,
   "metadata": {},
   "outputs": [
    {
     "name": "stdout",
     "output_type": "stream",
     "text": [
      "(1, 10)\n",
      "35.73988578254155\n"
     ]
    }
   ],
   "source": [
    "m = 10\n",
    "Beta = np.random.randn(3, 1)\n",
    "X = np.random.randn(3, m)\n",
    "Y = np.random.randn(1, m)\n",
    "\n",
    "temp = -1 * Y * np.dot(Beta.T, X) + np.log(1 + np.exp(np.dot(Beta.T, X)))\n",
    "print(temp.shape)\n",
    "\n",
    "cost = np.sum(-1 * Y * np.dot(Beta.T, X) + np.log(1 + np.exp(np.dot(Beta.T, X))))\n",
    "\n",
    "print(cost)"
   ]
  },
  {
   "cell_type": "code",
   "execution_count": 89,
   "metadata": {},
   "outputs": [],
   "source": [
    "def propagate(Beta:np.ndarray, X:np.ndarray, Y:np.ndarray):\n",
    "    cost = np.sum(-1 * Y * np.dot(Beta.T, X) + np.log(1.0 + np.exp(np.dot(Beta.T, X).astype(np.ndarray))))\n",
    "    p1 = np.exp(np.dot(Beta.T, X)) / (1 + np.exp(np.dot(Beta.T, X)))\n",
    "    db = -1 * np.sum(X * (Y - p1))\n",
    "    ddb = np.sum(np.dot(X.T, X) * p1 * (1 - p1))\n",
    "\n",
    "    grads = {\n",
    "        'db': db,\n",
    "        'ddb': ddb\n",
    "    }\n",
    "\n",
    "    return grads, cost"
   ]
  },
  {
   "attachments": {},
   "cell_type": "markdown",
   "metadata": {},
   "source": [
    "# 4. Optimize"
   ]
  },
  {
   "cell_type": "code",
   "execution_count": 90,
   "metadata": {},
   "outputs": [],
   "source": [
    "def optimize(Beta:np.ndarray, X:np.ndarray, Y:np.ndarray, num_iterations=1000):\n",
    "    costs = []\n",
    "    for i in range(num_iterations):\n",
    "        grads, cost = propagate(Beta, X, Y)\n",
    "\n",
    "        db = grads['db']\n",
    "        ddb = grads['ddb']\n",
    "\n",
    "        Beta = Beta - ddb ** (-1) * db\n",
    "        \n",
    "        if i % 100 == 0:\n",
    "            costs.append(cost)\n",
    "        \n",
    "        if i % 100 == 0:\n",
    "            print('Now cost is ', cost)\n",
    "\n",
    "    parameters = {\n",
    "        'Beta': Beta,\n",
    "        'costs': costs\n",
    "    }\n",
    "\n",
    "    return parameters"
   ]
  },
  {
   "attachments": {},
   "cell_type": "markdown",
   "metadata": {},
   "source": [
    "# 5. Prediction"
   ]
  },
  {
   "cell_type": "code",
   "execution_count": 91,
   "metadata": {},
   "outputs": [],
   "source": [
    "def predict(Beta:np.ndarray, X)->np.ndarray:\n",
    "\n",
    "    m = len(X)\n",
    "    y_prediction = np.zeros((len(m), 1))\n",
    "\n",
    "    Y = np.dot(Beta.T, X)\n",
    "\n",
    "    for i in range(m):\n",
    "        if Y[i] >= 0.5:\n",
    "            y_prediction[i] = 1\n",
    "    \n",
    "    return y_prediction"
   ]
  },
  {
   "attachments": {},
   "cell_type": "markdown",
   "metadata": {},
   "source": [
    "# 6. Model construction"
   ]
  },
  {
   "cell_type": "code",
   "execution_count": 92,
   "metadata": {},
   "outputs": [
    {
     "name": "stdout",
     "output_type": "stream",
     "text": [
      "2\n"
     ]
    }
   ],
   "source": [
    "a = np.array([1, 2, 3, 4, 5])\n",
    "b = np.array([2, 3, 4, 4, 5])\n",
    "\n",
    "c = np.sum(a == b)\n",
    "\n",
    "print(c)"
   ]
  },
  {
   "cell_type": "code",
   "execution_count": 93,
   "metadata": {},
   "outputs": [],
   "source": [
    "def model(train_x:np.ndarray, train_y:np.ndarray, test_x:np.ndarray, test_y:np.ndarray, num_iterations=1000):\n",
    "    dim = 3\n",
    "    Beta = initialize_with_zeros(dim)\n",
    "    parameters = optimize(Beta, train_x, train_y, num_iterations)\n",
    "\n",
    "    Beta = parameters['Beta']\n",
    "    costs = parameters['costs']\n",
    "\n",
    "    y_prediction_train = predict(Beta, train_x)\n",
    "    y_prediction_test = predict(Beta, test_x)\n",
    "\n",
    "    correct_rate_train = np.sum(y_prediction_train == train_y)\n",
    "    correct_rate_test = np.sum(y_prediction_test, test_y)\n",
    "\n",
    "    print('correct_rate_train is {} %', correct_rate_train / 100)\n",
    "    print('correct_rate_test is {} %', correct_rate_test / 100)\n",
    "\n",
    "    d = {\n",
    "        'y_prediction_train': y_prediction_train,\n",
    "        'y_prediction_test': y_prediction_test,\n",
    "        'Beta': Beta, \n",
    "        'costs': costs\n",
    "    }\n",
    "    \n",
    "    return d"
   ]
  },
  {
   "attachments": {},
   "cell_type": "markdown",
   "metadata": {},
   "source": [
    "# 7. Over, But is it ok?"
   ]
  },
  {
   "cell_type": "code",
   "execution_count": 94,
   "metadata": {},
   "outputs": [
    {
     "ename": "TypeError",
     "evalue": "loop of ufunc does not support argument 0 of type float which has no callable exp method",
     "output_type": "error",
     "traceback": [
      "\u001b[1;31m---------------------------------------------------------------------------\u001b[0m",
      "\u001b[1;31mAttributeError\u001b[0m                            Traceback (most recent call last)",
      "\u001b[1;31mAttributeError\u001b[0m: 'float' object has no attribute 'exp'",
      "\nThe above exception was the direct cause of the following exception:\n",
      "\u001b[1;31mTypeError\u001b[0m                                 Traceback (most recent call last)",
      "Cell \u001b[1;32mIn[94], line 1\u001b[0m\n\u001b[1;32m----> 1\u001b[0m logistic_regression \u001b[39m=\u001b[39m model(train_x, train_y, test_x, test_y)\n",
      "Cell \u001b[1;32mIn[93], line 4\u001b[0m, in \u001b[0;36mmodel\u001b[1;34m(train_x, train_y, test_x, test_y, num_iterations)\u001b[0m\n\u001b[0;32m      2\u001b[0m dim \u001b[39m=\u001b[39m \u001b[39m3\u001b[39m\n\u001b[0;32m      3\u001b[0m Beta \u001b[39m=\u001b[39m initialize_with_zeros(dim)\n\u001b[1;32m----> 4\u001b[0m parameters \u001b[39m=\u001b[39m optimize(Beta, train_x, train_y, num_iterations)\n\u001b[0;32m      6\u001b[0m Beta \u001b[39m=\u001b[39m parameters[\u001b[39m'\u001b[39m\u001b[39mBeta\u001b[39m\u001b[39m'\u001b[39m]\n\u001b[0;32m      7\u001b[0m costs \u001b[39m=\u001b[39m parameters[\u001b[39m'\u001b[39m\u001b[39mcosts\u001b[39m\u001b[39m'\u001b[39m]\n",
      "Cell \u001b[1;32mIn[90], line 4\u001b[0m, in \u001b[0;36moptimize\u001b[1;34m(Beta, X, Y, num_iterations)\u001b[0m\n\u001b[0;32m      2\u001b[0m costs \u001b[39m=\u001b[39m []\n\u001b[0;32m      3\u001b[0m \u001b[39mfor\u001b[39;00m i \u001b[39min\u001b[39;00m \u001b[39mrange\u001b[39m(num_iterations):\n\u001b[1;32m----> 4\u001b[0m     grads, cost \u001b[39m=\u001b[39m propagate(Beta, X, Y)\n\u001b[0;32m      6\u001b[0m     db \u001b[39m=\u001b[39m grads[\u001b[39m'\u001b[39m\u001b[39mdb\u001b[39m\u001b[39m'\u001b[39m]\n\u001b[0;32m      7\u001b[0m     ddb \u001b[39m=\u001b[39m grads[\u001b[39m'\u001b[39m\u001b[39mddb\u001b[39m\u001b[39m'\u001b[39m]\n",
      "Cell \u001b[1;32mIn[89], line 2\u001b[0m, in \u001b[0;36mpropagate\u001b[1;34m(Beta, X, Y)\u001b[0m\n\u001b[0;32m      1\u001b[0m \u001b[39mdef\u001b[39;00m \u001b[39mpropagate\u001b[39m(Beta:np\u001b[39m.\u001b[39mndarray, X:np\u001b[39m.\u001b[39mndarray, Y:np\u001b[39m.\u001b[39mndarray):\n\u001b[1;32m----> 2\u001b[0m     cost \u001b[39m=\u001b[39m np\u001b[39m.\u001b[39msum(\u001b[39m-\u001b[39m\u001b[39m1\u001b[39m \u001b[39m*\u001b[39m Y \u001b[39m*\u001b[39m np\u001b[39m.\u001b[39mdot(Beta\u001b[39m.\u001b[39mT, X) \u001b[39m+\u001b[39m np\u001b[39m.\u001b[39mlog(\u001b[39m1.0\u001b[39m \u001b[39m+\u001b[39m np\u001b[39m.\u001b[39;49mexp(np\u001b[39m.\u001b[39;49mdot(Beta\u001b[39m.\u001b[39;49mT, X)\u001b[39m.\u001b[39;49mastype(np\u001b[39m.\u001b[39;49mndarray))))\n\u001b[0;32m      3\u001b[0m     p1 \u001b[39m=\u001b[39m np\u001b[39m.\u001b[39mexp(np\u001b[39m.\u001b[39mdot(Beta\u001b[39m.\u001b[39mT, X)) \u001b[39m/\u001b[39m (\u001b[39m1\u001b[39m \u001b[39m+\u001b[39m np\u001b[39m.\u001b[39mexp(np\u001b[39m.\u001b[39mdot(Beta\u001b[39m.\u001b[39mT, X)))\n\u001b[0;32m      4\u001b[0m     db \u001b[39m=\u001b[39m \u001b[39m-\u001b[39m\u001b[39m1\u001b[39m \u001b[39m*\u001b[39m np\u001b[39m.\u001b[39msum(X \u001b[39m*\u001b[39m (Y \u001b[39m-\u001b[39m p1))\n",
      "\u001b[1;31mTypeError\u001b[0m: loop of ufunc does not support argument 0 of type float which has no callable exp method"
     ]
    }
   ],
   "source": [
    "logistic_regression = model(train_x, train_y, test_x, test_y)\n"
   ]
  },
  {
   "cell_type": "code",
   "execution_count": null,
   "metadata": {},
   "outputs": [],
   "source": []
  }
 ],
 "metadata": {
  "kernelspec": {
   "display_name": "zhanzhanblue",
   "language": "python",
   "name": "python3"
  },
  "language_info": {
   "codemirror_mode": {
    "name": "ipython",
    "version": 3
   },
   "file_extension": ".py",
   "mimetype": "text/x-python",
   "name": "python",
   "nbconvert_exporter": "python",
   "pygments_lexer": "ipython3",
   "version": "3.8.15"
  },
  "orig_nbformat": 4,
  "vscode": {
   "interpreter": {
    "hash": "30cc2f3f5b04606617fb87fc328a7ee7093d584b6e65eb17c195545026b98244"
   }
  }
 },
 "nbformat": 4,
 "nbformat_minor": 2
}
