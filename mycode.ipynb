{
 "cells": [
  {
   "cell_type": "code",
   "execution_count": 319,
   "metadata": {},
   "outputs": [],
   "source": [
    "import pandas as pd\n",
    "import numpy as np"
   ]
  },
  {
   "attachments": {},
   "cell_type": "markdown",
   "metadata": {},
   "source": [
    "# 1. to define the datasets\n",
    "to divide it into train and test sets."
   ]
  },
  {
   "cell_type": "code",
   "execution_count": 320,
   "metadata": {},
   "outputs": [
    {
     "name": "stdout",
     "output_type": "stream",
     "text": [
      "[[0.697 0.774 0.634 0.608 0.556 0.403 0.481 0.437 0.666 0.243 0.245 0.343\n",
      "  0.639 0.657 0.36 0.593 0.719]\n",
      " [0.46 0.376 0.264 0.318 0.215 0.237 0.149 0.211 0.091 0.267 0.057 0.099\n",
      "  0.161 0.198 0.37 0.042 0.103]\n",
      " [1 1 1 1 1 1 1 1 0 0 0 0 0 0 0 0 0]]\n",
      "(3, 17)\n",
      "(1, 17)\n"
     ]
    }
   ],
   "source": [
    "# to define the datasets\n",
    "\n",
    "dataset = pd.read_csv('watermelon3.0a.csv', sep=',')\n",
    "\n",
    "dataset = np.array(dataset)\n",
    "\n",
    "# print('before')\n",
    "# print(dataset)\n",
    "\n",
    "# translate '是' and '否' into 1 and 0\n",
    "for i in range(len(dataset)):\n",
    "    dataset[i][3] = 1 if dataset[i][3] == '是' else 0\n",
    "\n",
    "\n",
    "dataset = dataset.T\n",
    "dataset = dataset[1:4]\n",
    "print(dataset)\n",
    "m = 17\n",
    "\n",
    "X_dataset = dataset[0:2, :]\n",
    "Y_dataset = dataset[2:3, :]\n",
    "\n",
    "X_dataset_plus = np.array([1.0 for i in range(17)]).reshape(1, -1)\n",
    "X_dataset = np.append(X_dataset, X_dataset_plus, axis=0)\n",
    "\n",
    "print(X_dataset.shape)\n",
    "print(Y_dataset.shape)\n",
    "\n",
    "# d = int(17 * 0.7)\n",
    "\n",
    "# d = 14\n",
    "\n",
    "# # [0:2, 0:d] [2:3, 0:d] [0:2, d:] [2:3, d:]\n",
    "# train_x = dataset[0:2, 0:d]\n",
    "# train_y = dataset[2:3, 0:d]\n",
    "# test_x = dataset[0:2, d:]\n",
    "# test_y = dataset[2:3, d:]\n",
    "\n",
    "# print(train_x.shape, train_y.shape, test_x.shape, test_y.shape)\n",
    "\n",
    "# train_plus = np.array([1.0 for i in range(d)]).reshape(1, -1)\n",
    "# test_plus = np.array([1.0 for i in range(17 - d)]).reshape(1, -1)\n",
    "\n",
    "# print('train_plus shape', train_plus.shape)\n",
    "\n",
    "# train_x = np.append(train_x, train_plus, axis=0)\n",
    "# test_x = np.append(test_x, test_plus, axis=0)\n",
    "\n",
    "# print('train_x is ', train_x)\n",
    "# print('train_x shape is', train_x.shape)\n",
    "\n",
    "# print(train_x.shape, train_y.shape, test_x.shape, test_y.shape)"
   ]
  },
  {
   "attachments": {},
   "cell_type": "markdown",
   "metadata": {},
   "source": [
    "# 2. initialize the parameters"
   ]
  },
  {
   "cell_type": "code",
   "execution_count": 321,
   "metadata": {},
   "outputs": [
    {
     "data": {
      "text/plain": [
       "array([[ 0.06366559],\n",
       "       [-0.08166665],\n",
       "       [ 0.06891877]])"
      ]
     },
     "execution_count": 321,
     "metadata": {},
     "output_type": "execute_result"
    }
   ],
   "source": [
    "# initialize the parameters\n",
    "\n",
    "def initialize_with_zeros(dim : int):\n",
    "    return np.random.randn(dim, 1) * 0.1\n",
    "\n",
    "initialize_with_zeros(3)"
   ]
  },
  {
   "attachments": {},
   "cell_type": "markdown",
   "metadata": {},
   "source": [
    "# 3. propagate"
   ]
  },
  {
   "cell_type": "code",
   "execution_count": 322,
   "metadata": {},
   "outputs": [
    {
     "name": "stdout",
     "output_type": "stream",
     "text": [
      "<class 'numpy.ndarray'>\n",
      "[[0.80622629 0.76626036 0.8825533  0.89359753 0.95247978 1.08229274\n",
      "  1.02851481 1.05610215 0.88640594 1.23541226 1.28202098]]\n"
     ]
    }
   ],
   "source": [
    "temp = np.array([[-0.21539082199977688, -0.2662332762116397, -0.12493609898688618,\n",
    "  -0.11249979832632084, -0.04868640319866824, 0.07908169716538288,\n",
    "  0.028115834322631816, 0.05458491594874759, -0.120580266543589,\n",
    "  0.21140472844864, 0.24843772326704078]])\n",
    "print(type(temp))\n",
    "a = np.exp(temp)\n",
    "\n",
    "print(a)\n"
   ]
  },
  {
   "cell_type": "code",
   "execution_count": 323,
   "metadata": {},
   "outputs": [
    {
     "name": "stdout",
     "output_type": "stream",
     "text": [
      "(1, 11)\n",
      "14.530478503148341\n"
     ]
    }
   ],
   "source": [
    "m = 11\n",
    "Beta = np.random.randn(3, 1)\n",
    "X = np.random.randn(3, m)\n",
    "Y = np.random.randn(1, m)\n",
    "\n",
    "temp = -1 * Y * np.dot(Beta.T, X) + np.log(1 + np.exp(np.dot(Beta.T, X)))\n",
    "print(temp.shape)\n",
    "\n",
    "cost = np.sum(-1 * Y * np.dot(Beta.T, X) + np.log(1 + np.exp(np.dot(Beta.T, X))))\n",
    "\n",
    "print(cost)"
   ]
  },
  {
   "cell_type": "code",
   "execution_count": 324,
   "metadata": {},
   "outputs": [],
   "source": [
    "def propagate(Beta:np.ndarray, X:np.ndarray, Y:np.ndarray):\n",
    "    cost = np.sum(-1.0 * Y * np.dot(Beta.T, X) + np.log(1.0 + np.exp(np.dot(Beta.T, X).astype(float))))\n",
    "    p1 = np.exp(np.dot(Beta.T, X).astype(float)) / (1.0 + np.exp(np.dot(Beta.T, X).astype(float)))\n",
    "    db = -1 * np.sum(X * (Y - p1))\n",
    "    ddb = np.sum(np.dot(X.T, X) * p1 * (1 - p1))\n",
    "\n",
    "    grads = {\n",
    "        'db': db,\n",
    "        'ddb': ddb\n",
    "    }\n",
    "\n",
    "    return grads, cost"
   ]
  },
  {
   "attachments": {},
   "cell_type": "markdown",
   "metadata": {},
   "source": [
    "# 4. Optimize"
   ]
  },
  {
   "cell_type": "code",
   "execution_count": 325,
   "metadata": {},
   "outputs": [
    {
     "data": {
      "text/plain": [
       "0.2"
      ]
     },
     "execution_count": 325,
     "metadata": {},
     "output_type": "execute_result"
    }
   ],
   "source": [
    "5**-1"
   ]
  },
  {
   "cell_type": "code",
   "execution_count": 326,
   "metadata": {},
   "outputs": [],
   "source": [
    "def optimize(Beta:np.ndarray, X:np.ndarray, Y:np.ndarray, num_iterations=1000):\n",
    "    costs = []\n",
    "    for i in range(num_iterations):\n",
    "        grads, cost = propagate(Beta, X, Y)\n",
    "\n",
    "        db = grads['db']\n",
    "        ddb = grads['ddb']\n",
    "\n",
    "        Beta = Beta - (ddb**-1) * db\n",
    "        \n",
    "        if i % 100 == 0:\n",
    "            costs.append(cost)\n",
    "        \n",
    "        if i % 100 == 0:\n",
    "            print('Now cost is ', cost)\n",
    "\n",
    "    parameters = {\n",
    "        'Beta': Beta,\n",
    "        'costs': costs\n",
    "    }\n",
    "\n",
    "    return parameters"
   ]
  },
  {
   "attachments": {},
   "cell_type": "markdown",
   "metadata": {},
   "source": [
    "# 5. Prediction"
   ]
  },
  {
   "cell_type": "code",
   "execution_count": 327,
   "metadata": {},
   "outputs": [],
   "source": [
    "def predict(Beta:np.ndarray, X)->np.ndarray:\n",
    "\n",
    "    m = X.shape[1]\n",
    "    y_prediction = np.zeros((1, m))\n",
    "\n",
    "    Y = np.dot(Beta.T, X)\n",
    "\n",
    "    for i in range(m):\n",
    "        if Y[0, i] >= 0.5:\n",
    "            y_prediction[0, i] = 1\n",
    "    \n",
    "    return y_prediction"
   ]
  },
  {
   "cell_type": "code",
   "execution_count": 328,
   "metadata": {},
   "outputs": [
    {
     "name": "stdout",
     "output_type": "stream",
     "text": [
      "(1, 11)\n"
     ]
    }
   ],
   "source": [
    "y_prediction = np.zeros((1, m))\n",
    "\n",
    "print(y_prediction.shape)"
   ]
  },
  {
   "attachments": {},
   "cell_type": "markdown",
   "metadata": {},
   "source": [
    "# 6. Model construction"
   ]
  },
  {
   "cell_type": "code",
   "execution_count": 329,
   "metadata": {},
   "outputs": [
    {
     "name": "stdout",
     "output_type": "stream",
     "text": [
      "5\n"
     ]
    }
   ],
   "source": [
    "a = np.array([1, 1, 1, 1, 1, 1, 1, 1])\n",
    "b = np.array([1, 1, 1, 1, 1, 0, 0, 0])\n",
    "\n",
    "c = np.sum(a == b)\n",
    "\n",
    "print(c)"
   ]
  },
  {
   "cell_type": "code",
   "execution_count": 330,
   "metadata": {},
   "outputs": [
    {
     "name": "stdout",
     "output_type": "stream",
     "text": [
      "[[0.697 0.774 0.634 0.608 0.556 0.403 0.481 0.437 0.666 0.243 0.245 0.343\n",
      "  0.639 0.657 0.36 0.593]\n",
      " [0.46 0.376 0.264 0.318 0.215 0.237 0.149 0.211 0.091 0.267 0.057 0.099\n",
      "  0.161 0.198 0.37 0.042]\n",
      " [1.0 1.0 1.0 1.0 1.0 1.0 1.0 1.0 1.0 1.0 1.0 1.0 1.0 1.0 1.0 1.0]]\n",
      "[[0.774 0.634 0.608 0.556 0.403 0.481 0.437 0.666 0.243 0.245 0.343 0.639\n",
      "  0.657 0.36 0.593]\n",
      " [0.376 0.264 0.318 0.215 0.237 0.149 0.211 0.091 0.267 0.057 0.099 0.161\n",
      "  0.198 0.37 0.042]\n",
      " [1.0 1.0 1.0 1.0 1.0 1.0 1.0 1.0 1.0 1.0 1.0 1.0 1.0 1.0 1.0]]\n"
     ]
    }
   ],
   "source": [
    "data = train_x\n",
    "print(data)\n",
    "newdata = np.delete(data, 0, 1)\n",
    "print(newdata)"
   ]
  },
  {
   "cell_type": "code",
   "execution_count": 331,
   "metadata": {},
   "outputs": [],
   "source": [
    "def model(train_x:np.ndarray, train_y:np.ndarray, test_x:np.ndarray, test_y:np.ndarray, num_iterations=1000):\n",
    "    dim = 3\n",
    "    Beta = initialize_with_zeros(dim)\n",
    "    parameters = optimize(Beta, train_x, train_y, num_iterations)\n",
    "\n",
    "    Beta = parameters['Beta']\n",
    "    costs = parameters['costs']\n",
    "\n",
    "    y_prediction_train = predict(Beta, train_x)\n",
    "    y_prediction_test = predict(Beta, test_x)\n",
    "\n",
    "    correct_train = np.sum(y_prediction_train == train_y) / train_y.shape[1]\n",
    "    correct_test = np.sum(y_prediction_test == test_y) / test_y.shape[1]\n",
    "\n",
    "    # print('y_prediction_train is', correct_rate_train)\n",
    "    # print('y_prediction_test is', correct_rate_test)\n",
    "\n",
    "    # print('correct_rate_train is {} %'.format(correct_rate_train * 100))\n",
    "    # print('correct_rate_test is {} %'.format(correct_rate_test * 100))\n",
    "\n",
    "    d = {\n",
    "        'correct_train': correct_train,\n",
    "        'correct_test': correct_test,\n",
    "        'y_prediction_train': y_prediction_train,\n",
    "        'y_prediction_test': y_prediction_test,\n",
    "        'Beta': Beta, \n",
    "        'costs': costs\n",
    "    }\n",
    "    \n",
    "    return d"
   ]
  },
  {
   "attachments": {},
   "cell_type": "markdown",
   "metadata": {},
   "source": [
    "# 7. Over, But is it ok?"
   ]
  },
  {
   "cell_type": "code",
   "execution_count": 332,
   "metadata": {},
   "outputs": [
    {
     "name": "stdout",
     "output_type": "stream",
     "text": [
      "Now cost is  11.081451743531144\n",
      "Now cost is  11.042785179224305\n",
      "Now cost is  11.042785179224303\n",
      "Now cost is  11.042785179224307\n",
      "Now cost is  11.042785179224307\n",
      "Now cost is  11.042785179224307\n",
      "Now cost is  11.042785179224307\n",
      "Now cost is  11.042785179224307\n",
      "Now cost is  11.042785179224307\n",
      "Now cost is  11.042785179224307\n",
      "Now cost is  11.398344720197649\n",
      "Now cost is  11.148240695060888\n",
      "Now cost is  11.14824069506088\n",
      "Now cost is  11.148240695060878\n",
      "Now cost is  11.148240695060878\n",
      "Now cost is  11.148240695060878\n",
      "Now cost is  11.148240695060878\n",
      "Now cost is  11.148240695060878\n",
      "Now cost is  11.148240695060878\n",
      "Now cost is  11.148240695060878\n",
      "Now cost is  11.511145042320198\n",
      "Now cost is  11.117577962550575\n",
      "Now cost is  11.117577962550566\n",
      "Now cost is  11.117577962550568\n",
      "Now cost is  11.117577962550568\n",
      "Now cost is  11.117577962550568\n",
      "Now cost is  11.117577962550566\n",
      "Now cost is  11.117577962550566\n",
      "Now cost is  11.117577962550566\n",
      "Now cost is  11.117577962550566\n",
      "Now cost is  11.188817086649145\n",
      "Now cost is  11.081594357680888\n",
      "Now cost is  11.081594357680885\n",
      "Now cost is  11.081594357680887\n",
      "Now cost is  11.081594357680887\n",
      "Now cost is  11.081594357680887\n",
      "Now cost is  11.081594357680887\n",
      "Now cost is  11.081594357680887\n",
      "Now cost is  11.081594357680887\n",
      "Now cost is  11.081594357680887\n",
      "Now cost is  11.045593341010864\n",
      "Now cost is  11.036062541736287\n",
      "Now cost is  11.036062541736285\n",
      "Now cost is  11.036062541736287\n",
      "Now cost is  11.036062541736287\n",
      "Now cost is  11.036062541736287\n",
      "Now cost is  11.036062541736287\n",
      "Now cost is  11.036062541736287\n",
      "Now cost is  11.036062541736287\n",
      "Now cost is  11.036062541736287\n",
      "Now cost is  11.277335297224536\n",
      "Now cost is  11.099083864117706\n",
      "Now cost is  11.0990838641177\n",
      "Now cost is  11.099083864117702\n",
      "Now cost is  11.099083864117702\n",
      "Now cost is  11.099083864117702\n",
      "Now cost is  11.099083864117702\n",
      "Now cost is  11.099083864117702\n",
      "Now cost is  11.099083864117702\n",
      "Now cost is  11.099083864117702\n",
      "Now cost is  11.136419158117953\n",
      "Now cost is  11.054554334375657\n",
      "Now cost is  11.054554334375657\n",
      "Now cost is  11.054554334375656\n",
      "Now cost is  11.054554334375656\n",
      "Now cost is  11.054554334375656\n",
      "Now cost is  11.054554334375656\n",
      "Now cost is  11.054554334375656\n",
      "Now cost is  11.054554334375656\n",
      "Now cost is  11.054554334375656\n",
      "Now cost is  11.013344488142344\n",
      "Now cost is  10.999574642181063\n",
      "Now cost is  10.999574642181061\n",
      "Now cost is  10.999574642181065\n",
      "Now cost is  10.999574642181065\n",
      "Now cost is  10.999574642181065\n",
      "Now cost is  10.999574642181065\n",
      "Now cost is  10.999574642181065\n",
      "Now cost is  10.999574642181065\n",
      "Now cost is  10.999574642181065\n",
      "Now cost is  11.139609942708335\n",
      "Now cost is  11.102157273376884\n",
      "Now cost is  11.102157273376882\n",
      "Now cost is  11.102157273376882\n",
      "Now cost is  11.102157273376882\n",
      "Now cost is  11.102157273376882\n",
      "Now cost is  11.102157273376882\n",
      "Now cost is  11.102157273376882\n",
      "Now cost is  11.102157273376882\n",
      "Now cost is  11.102157273376882\n",
      "Now cost is  11.06362553883666\n",
      "Now cost is  11.061353040655261\n",
      "Now cost is  11.061353040655261\n",
      "Now cost is  11.061353040655261\n",
      "Now cost is  11.061353040655261\n",
      "Now cost is  11.061353040655261\n",
      "Now cost is  11.061353040655261\n",
      "Now cost is  11.061353040655261\n",
      "Now cost is  11.061353040655261\n",
      "Now cost is  11.061353040655261\n",
      "Now cost is  11.115320170742457\n",
      "Now cost is  11.104084365766555\n",
      "Now cost is  11.104084365766553\n",
      "Now cost is  11.104084365766557\n",
      "Now cost is  11.104084365766557\n",
      "Now cost is  11.104084365766557\n",
      "Now cost is  11.104084365766557\n",
      "Now cost is  11.104084365766557\n",
      "Now cost is  11.104084365766557\n",
      "Now cost is  11.104084365766557\n",
      "Now cost is  11.055412705060219\n",
      "Now cost is  11.048724631984593\n",
      "Now cost is  11.048724631984596\n",
      "Now cost is  11.048724631984593\n",
      "Now cost is  11.048724631984593\n",
      "Now cost is  11.048724631984593\n",
      "Now cost is  11.048724631984593\n",
      "Now cost is  11.048724631984593\n",
      "Now cost is  11.048724631984593\n",
      "Now cost is  11.048724631984593\n",
      "Now cost is  11.039428953709118\n",
      "Now cost is  11.039219072599948\n",
      "Now cost is  11.039219072599947\n",
      "Now cost is  11.039219072599948\n",
      "Now cost is  11.039219072599948\n",
      "Now cost is  11.039219072599948\n",
      "Now cost is  11.039219072599948\n",
      "Now cost is  11.039219072599948\n",
      "Now cost is  11.039219072599948\n",
      "Now cost is  11.039219072599948\n",
      "Now cost is  11.057247164608846\n",
      "Now cost is  11.020006544481188\n",
      "Now cost is  11.020006544481188\n",
      "Now cost is  11.020006544481188\n",
      "Now cost is  11.020006544481188\n",
      "Now cost is  11.020006544481188\n",
      "Now cost is  11.020006544481188\n",
      "Now cost is  11.020006544481188\n",
      "Now cost is  11.020006544481186\n",
      "Now cost is  11.020006544481186\n",
      "Now cost is  11.121551924739634\n",
      "Now cost is  11.115494617221232\n",
      "Now cost is  11.115494617221232\n",
      "Now cost is  11.115494617221234\n",
      "Now cost is  11.115494617221234\n",
      "Now cost is  11.115494617221234\n",
      "Now cost is  11.115494617221234\n",
      "Now cost is  11.115494617221234\n",
      "Now cost is  11.115494617221234\n",
      "Now cost is  11.115494617221234\n",
      "Now cost is  11.156219008708707\n",
      "Now cost is  11.136493911313519\n",
      "Now cost is  11.136493911313517\n",
      "Now cost is  11.136493911313513\n",
      "Now cost is  11.136493911313513\n",
      "Now cost is  11.136493911313513\n",
      "Now cost is  11.136493911313513\n",
      "Now cost is  11.136493911313513\n",
      "Now cost is  11.136493911313513\n",
      "Now cost is  11.136493911313513\n",
      "Now cost is  11.072748214559416\n",
      "Now cost is  11.055768003051663\n",
      "Now cost is  11.055768003051664\n",
      "Now cost is  11.055768003051664\n",
      "Now cost is  11.055768003051664\n",
      "Now cost is  11.055768003051664\n",
      "Now cost is  11.055768003051663\n",
      "Now cost is  11.055768003051663\n",
      "Now cost is  11.055768003051663\n",
      "Now cost is  11.055768003051663\n",
      "train correct rate is 52.94117647058824%\n",
      "test correct rate is 52.94117647058824%\n"
     ]
    }
   ],
   "source": [
    "m = 17\n",
    "train_correct_sum = 0\n",
    "test_correct_sum = 0\n",
    "\n",
    "for i in range(m):\n",
    "    train_x = np.delete(X_dataset, i, 1)\n",
    "    train_y = np.delete(Y_dataset, i, 1)\n",
    "    test_x = X_dataset[:, i].reshape(-1, 1)\n",
    "    test_y = Y_dataset[:, i].reshape(-1, 1)\n",
    "    # print('train_x is ', train_x.shape)\n",
    "    # print('train_y is ', train_y.shape)\n",
    "    # print('test_x is ', test_x.shape)\n",
    "    # print('test_y is ', test_y.shape)\n",
    "    logistic_regression = model(train_x, train_y, test_x, test_y, 1000)\n",
    "    train_correct_sum += logistic_regression['correct_train']\n",
    "    test_correct_sum += logistic_regression['correct_test']\n",
    "\n",
    "print('train correct rate is {}%'.format(train_correct_sum / m * 100))\n",
    "print('test correct rate is {}%'.format(test_correct_sum / m * 100))\n",
    "    \n"
   ]
  }
 ],
 "metadata": {
  "kernelspec": {
   "display_name": "zhanzhanblue",
   "language": "python",
   "name": "python3"
  },
  "language_info": {
   "codemirror_mode": {
    "name": "ipython",
    "version": 3
   },
   "file_extension": ".py",
   "mimetype": "text/x-python",
   "name": "python",
   "nbconvert_exporter": "python",
   "pygments_lexer": "ipython3",
   "version": "3.8.15"
  },
  "orig_nbformat": 4,
  "vscode": {
   "interpreter": {
    "hash": "30cc2f3f5b04606617fb87fc328a7ee7093d584b6e65eb17c195545026b98244"
   }
  }
 },
 "nbformat": 4,
 "nbformat_minor": 2
}
