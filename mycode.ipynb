{
 "cells": [
  {
   "cell_type": "code",
   "execution_count": 1,
   "metadata": {},
   "outputs": [],
   "source": [
    "import pandas as pd\n",
    "import numpy as np"
   ]
  },
  {
   "attachments": {},
   "cell_type": "markdown",
   "metadata": {},
   "source": [
    "# 1. to define the datasets\n",
    "to divide it into train and test sets."
   ]
  },
  {
   "cell_type": "code",
   "execution_count": 13,
   "metadata": {},
   "outputs": [
    {
     "name": "stdout",
     "output_type": "stream",
     "text": [
      "[[0.697 0.774 0.634 0.608 0.556 0.403 0.481 0.437 0.666 0.243 0.245 0.343\n",
      "  0.639 0.657 0.36 0.593 0.719]\n",
      " [0.46 0.376 0.264 0.318 0.215 0.237 0.149 0.211 0.091 0.267 0.057 0.099\n",
      "  0.161 0.198 0.37 0.042 0.103]\n",
      " [1 1 1 1 1 1 1 1 0 0 0 0 0 0 0 0 0]]\n",
      "(3, 17)\n",
      "(2, 11) (1, 11) (2, 6) (1, 6)\n"
     ]
    }
   ],
   "source": [
    "# to define the datasets\n",
    "\n",
    "dataset = pd.read_csv('watermelon3.0a.csv', sep=',')\n",
    "\n",
    "dataset = np.array(dataset)\n",
    "\n",
    "# print('before')\n",
    "# print(dataset)\n",
    "\n",
    "# translate '是' and '否' into 1 and 0\n",
    "for i in range(len(dataset)):\n",
    "    dataset[i][3] = 1 if dataset[i][3] == '是' else 0\n",
    "\n",
    "\n",
    "dataset = dataset.T\n",
    "dataset = dataset[1:4]\n",
    "# print('after altering')\n",
    "print(dataset)\n",
    "\n",
    "print(dataset.shape)\n",
    "\n",
    "d = int(17 * 0.7)\n",
    "\n",
    "# [0:2, 0:d] [2:3, 0:d] [0:2, d:] [2:3, d:]\n",
    "train_x = dataset[0:2, 0:d]\n",
    "train_y = dataset[2:3, 0:d]\n",
    "test_x = dataset[0:2, d:]\n",
    "test_y = dataset[2:3, d:]\n",
    "\n",
    "print(train_x.shape, train_y.shape, test_x.shape, test_y.shape)\n"
   ]
  },
  {
   "attachments": {},
   "cell_type": "markdown",
   "metadata": {},
   "source": [
    "# 2. initialize the parameters"
   ]
  },
  {
   "cell_type": "code",
   "execution_count": 14,
   "metadata": {},
   "outputs": [
    {
     "data": {
      "text/plain": [
       "array([[ 0.0020741 ],\n",
       "       [-0.0014076 ],\n",
       "       [-0.00031198],\n",
       "       [-0.00030822]])"
      ]
     },
     "execution_count": 14,
     "metadata": {},
     "output_type": "execute_result"
    }
   ],
   "source": [
    "# initialize the parameters\n",
    "\n",
    "def initialize_with_zeros(dim : int):\n",
    "    return np.random.randn(dim, 1) * 0.001\n",
    "\n",
    "initialize_with_zeros(4)"
   ]
  },
  {
   "attachments": {},
   "cell_type": "markdown",
   "metadata": {},
   "source": [
    "# 3. propagate"
   ]
  },
  {
   "cell_type": "code",
   "execution_count": 22,
   "metadata": {},
   "outputs": [],
   "source": [
    "def propagate(Beta:np.ndarray, X:np.ndarray, Y:np.ndarray):\n",
    "    L = np.sum(-1 * Y * np.dot(Beta.T, X) + np.log(1 + np.exp(np.dot(Beta.T, X))))\n",
    "    p1 = np.exp(np.dot(Beta.T, X)) / (1 + np.exp(np.dot(Beta.T, X)))\n",
    "    db = -1 * np.sum(X * (Y - p1))\n",
    "    dbb = np.sum(np.dot(X.T, X) * p1 * (1 - p1))\n",
    "\n",
    "    grads = {\n",
    "        'db': db,\n",
    "        'dbb': dbb\n",
    "    }\n",
    "\n",
    "    return grads\n"
   ]
  },
  {
   "attachments": {},
   "cell_type": "markdown",
   "metadata": {},
   "source": [
    "# 4. Optimize"
   ]
  },
  {
   "attachments": {},
   "cell_type": "markdown",
   "metadata": {},
   "source": []
  }
 ],
 "metadata": {
  "kernelspec": {
   "display_name": "zhanzhanblue",
   "language": "python",
   "name": "python3"
  },
  "language_info": {
   "codemirror_mode": {
    "name": "ipython",
    "version": 3
   },
   "file_extension": ".py",
   "mimetype": "text/x-python",
   "name": "python",
   "nbconvert_exporter": "python",
   "pygments_lexer": "ipython3",
   "version": "3.8.15"
  },
  "orig_nbformat": 4,
  "vscode": {
   "interpreter": {
    "hash": "30cc2f3f5b04606617fb87fc328a7ee7093d584b6e65eb17c195545026b98244"
   }
  }
 },
 "nbformat": 4,
 "nbformat_minor": 2
}
